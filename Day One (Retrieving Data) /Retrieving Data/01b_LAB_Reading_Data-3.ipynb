{
 "cells": [
  {
   "cell_type": "markdown",
   "metadata": {},
   "source": [
    "# Machine Learning Foundation\n",
    "\n",
    "## Section 1, Part b: Reading Data Lab\n"
   ]
  },
  {
   "cell_type": "code",
   "execution_count": 1,
   "metadata": {},
   "outputs": [],
   "source": [
    "# Imports\n",
    "import sqlite3 as sq3\n",
    "import pandas.io.sql as pds\n",
    "import pandas as pd"
   ]
  },
  {
   "cell_type": "markdown",
   "metadata": {},
   "source": [
    "## Lab Exercise: Reading in database files\n",
    "\n",
    "*   Create a variable, `path`, containing the path to the `baseball.db` contained in `resources/`\n",
    "*   Create a connection, `con`, that is connected to database at `path`\n",
    "*   Create a variable, `query`, containing a SQL query which reads in all data from the `allstarfull` table\n",
    "*   Create a variable, `observations`, by using pandas' [read_sql](https://pandas.pydata.org/pandas-docs/stable/reference/api/pandas.read_sql.html?utm_medium=Exinfluencer&utm_source=Exinfluencer&utm_content=000026UJ&utm_term=10006555&utm_id=NA-SkillsNetwork-Channel-SkillsNetworkCoursesIBMML0232ENSkillsNetwork30654641-2021-01-01)\n",
    "\n",
    "### Optional\n",
    "\n",
    "*   Create a variable, `tables`, which reads in all data from the table `sqlite_master`\n",
    "*   Pretend that you were interesting in creating a new baseball hall of fame. Join and analyze the tables to evaluate the top 3 all time best baseball players.\n"
   ]
  },
  {
   "cell_type": "code",
   "execution_count": 2,
   "metadata": {},
   "outputs": [
    {
     "name": "stdout",
     "output_type": "stream",
     "text": [
      "--2022-05-14 11:13:15--  https://cf-courses-data.s3.us.cloud-object-storage.appdomain.cloud/IBM-ML0232EN-SkillsNetwork/asset/baseball.db\n",
      "Resolving cf-courses-data.s3.us.cloud-object-storage.appdomain.cloud (cf-courses-data.s3.us.cloud-object-storage.appdomain.cloud)... 169.63.118.104\n",
      "Connecting to cf-courses-data.s3.us.cloud-object-storage.appdomain.cloud (cf-courses-data.s3.us.cloud-object-storage.appdomain.cloud)|169.63.118.104|:443... connected.\n",
      "HTTP request sent, awaiting response... 200 OK\n",
      "Length: 7626752 (7.3M) [binary/octet-stream]\n",
      "Saving to: ‘data/baseball.db.1’\n",
      "\n",
      "baseball.db.1       100%[===================>]   7.27M  --.-KB/s    in 0.05s   \n",
      "\n",
      "2022-05-14 11:13:16 (134 MB/s) - ‘data/baseball.db.1’ saved [7626752/7626752]\n",
      "\n"
     ]
    }
   ],
   "source": [
    "# Download the database\n",
    "!wget -P data https://cf-courses-data.s3.us.cloud-object-storage.appdomain.cloud/IBM-ML0232EN-SkillsNetwork/asset/baseball.db"
   ]
  },
  {
   "cell_type": "code",
   "execution_count": 4,
   "metadata": {},
   "outputs": [
    {
     "name": "stdout",
     "output_type": "stream",
     "text": [
      "<sqlite3.Connection object at 0x7eff0244bf10>\n"
     ]
    }
   ],
   "source": [
    "##Solution \n",
    "file_path = 'data/baseball.db'\n",
    "connection = sq3.Connection(file_path)\n",
    "print(connection)"
   ]
  },
  {
   "cell_type": "code",
   "execution_count": 11,
   "metadata": {},
   "outputs": [
    {
     "name": "stdout",
     "output_type": "stream",
     "text": [
      "      index   playerID  yearID  gameNum        gameID teamID lgID   GP  \\\n",
      "0         0  gomezle01    1933        0  ALS193307060    NYA   AL  1.0   \n",
      "1         1  ferreri01    1933        0  ALS193307060    BOS   AL  1.0   \n",
      "2         2  gehrilo01    1933        0  ALS193307060    NYA   AL  1.0   \n",
      "3         3  gehrich01    1933        0  ALS193307060    DET   AL  1.0   \n",
      "4         4  dykesji01    1933        0  ALS193307060    CHA   AL  1.0   \n",
      "...     ...        ...     ...      ...           ...    ...  ...  ...   \n",
      "5143   5143  seageco01    2016        0  ALS201607120    LAN   NL  1.0   \n",
      "5144   5144  strasst01    2016        0  ALS201607120    WAS   NL  0.0   \n",
      "5145   5145  syndeno01    2016        0  ALS201607120    NYN   NL  0.0   \n",
      "5146   5146  teherju01    2016        0  ALS201607120    ATL   NL  1.0   \n",
      "5147   5147  zobribe01    2016        0  ALS201607120    CHN   NL  1.0   \n",
      "\n",
      "      startingPos  \n",
      "0             1.0  \n",
      "1             2.0  \n",
      "2             3.0  \n",
      "3             4.0  \n",
      "4             5.0  \n",
      "...           ...  \n",
      "5143          NaN  \n",
      "5144          NaN  \n",
      "5145          NaN  \n",
      "5146          NaN  \n",
      "5147          4.0  \n",
      "\n",
      "[5148 rows x 9 columns]\n"
     ]
    }
   ],
   "source": [
    "#Create a variable, query, containing a SQL query which reads in all data from the allstarfull table\n",
    "\n",
    "query = \"\"\"\n",
    "SELECT *\n",
    "    FROM allstarfull\n",
    "    ;\n",
    "\"\"\"\n",
    "\n",
    "observations = pd.read_sql(query , connection)\n",
    "print(observations)"
   ]
  },
  {
   "cell_type": "code",
   "execution_count": 13,
   "metadata": {},
   "outputs": [
    {
     "ename": "SyntaxError",
     "evalue": "invalid syntax (2401062134.py, line 2)",
     "output_type": "error",
     "traceback": [
      "\u001b[0;36m  File \u001b[0;32m\"/tmp/ipykernel_403/2401062134.py\"\u001b[0;36m, line \u001b[0;32m2\u001b[0m\n\u001b[0;31m    query = 'Select * from sqlite_master;')\u001b[0m\n\u001b[0m                                          ^\u001b[0m\n\u001b[0;31mSyntaxError\u001b[0m\u001b[0;31m:\u001b[0m invalid syntax\n"
     ]
    }
   ],
   "source": [
    "# Create a variable, tables, which reads in all data from the table sqlite_master\n",
    "query = 'Select * from sqlite_master;')\n",
    "all_tables = pd.read_sql(query , connection)\n",
    "print(all_tables)"
   ]
  },
  {
   "cell_type": "code",
   "execution_count": null,
   "metadata": {},
   "outputs": [],
   "source": [
    "\n",
    "# Create a variable, `query`, containing a SQL query which reads in all data from the `` table\n",
    "\n",
    "\n",
    "allstar_observations = pd.read_sql(query, con)\n",
    "\n",
    "# print(allstar_observations)\n",
    "\n",
    "# Create a variable, tables, which reads in all data from the table sqlite_master\n",
    "all_tables = pd.read_sql('SELECT * FROM sqlite_master', con)\n",
    "print(all_tables)\n",
    "\n",
    "# Pretend that you were interesting in creating a new baseball hall of fame. Join and analyze the tables to evaluate the top 3 all time best baseball players\n",
    "best_query = \"\"\"\n",
    "SELECT playerID, sum(GP) AS num_games_played, AVG(startingPos) AS avg_starting_position\n",
    "    FROM allstarfull\n",
    "    GROUP BY playerID\n",
    "    ORDER BY num_games_played DESC, avg_starting_position ASC\n",
    "    LIMIT 3\n",
    "\"\"\"\n",
    "best = pd.read_sql(best_query, con)\n",
    "print(best.head())\n",
    "### END SOLUTION"
   ]
  },
  {
   "cell_type": "markdown",
   "metadata": {},
   "source": [
    "***\n",
    "\n",
    "### Machine Learning Foundation (C) 2020 IBM Corporation\n"
   ]
  }
 ],
 "metadata": {
  "kernelspec": {
   "display_name": "Python",
   "language": "python",
   "name": "conda-env-python-py"
  },
  "language_info": {
   "codemirror_mode": {
    "name": "ipython",
    "version": 3
   },
   "file_extension": ".py",
   "mimetype": "text/x-python",
   "name": "python",
   "nbconvert_exporter": "python",
   "pygments_lexer": "ipython3",
   "version": "3.7.12"
  }
 },
 "nbformat": 4,
 "nbformat_minor": 4
}
